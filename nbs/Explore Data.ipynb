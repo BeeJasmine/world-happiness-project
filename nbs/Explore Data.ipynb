{
 "cells": [
  {
   "cell_type": "markdown",
   "metadata": {},
   "source": [
    "# Explore data\n",
    "\n",
    "The World Happiness data is composed of three different datasets :\n",
    "\n",
    "* [The world happiness report dataset](https://www.kaggle.com/unsdsn/world-happiness) - Kaggle\n",
    "* [The global suicide indicators dataset](https://www.kaggle.com/andrewmvd/suicide-dataset) - Kaggle\n",
    "* [A list of homicide victims](https://en.wikipedia.org/wiki/List_of_countries_by_intentional_homicide_rate) - Wikipedia"
   ]
  },
  {
   "cell_type": "code",
   "execution_count": null,
   "metadata": {},
   "outputs": [],
   "source": []
  }
 ],
 "metadata": {
  "kernelspec": {
   "display_name": "Python 3",
   "language": "python",
   "name": "python3"
  },
  "language_info": {
   "codemirror_mode": {
    "name": "ipython",
    "version": 3
   },
   "file_extension": ".py",
   "mimetype": "text/x-python",
   "name": "python",
   "nbconvert_exporter": "python",
   "pygments_lexer": "ipython3",
   "version": "3.7.8"
  }
 },
 "nbformat": 4,
 "nbformat_minor": 4
}
